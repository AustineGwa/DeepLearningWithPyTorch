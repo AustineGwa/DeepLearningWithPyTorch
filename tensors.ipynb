{
 "cells": [
  {
   "cell_type": "markdown",
   "metadata": {},
   "source": [
    "# Tensors\n",
    "Where the magic begins!"
   ]
  },
  {
   "cell_type": "code",
   "execution_count": 1,
   "metadata": {},
   "outputs": [
    {
     "data": {
      "text/plain": [
       "'PyTorch v1.5.0, GPU: True'"
      ]
     },
     "execution_count": 1,
     "metadata": {},
     "output_type": "execute_result"
    }
   ],
   "source": [
    "import torch\n",
    "f'PyTorch v{torch.__version__}, GPU: {torch.cuda.is_available()}'"
   ]
  },
  {
   "cell_type": "code",
   "execution_count": 2,
   "metadata": {},
   "outputs": [
    {
     "name": "stdout",
     "output_type": "stream",
     "text": [
      "tensor([[191.,  89., 173.],\n",
      "        [ 20., 204., 232.],\n",
      "        [122.,  18., 173.]]) \n",
      " tensor([[0.7113, 0.6239, 0.0638],\n",
      "        [0.5682, 0.4671, 0.5599],\n",
      "        [0.0373, 0.0279, 0.1606]])\n"
     ]
    }
   ],
   "source": [
    "x = torch.randint(255, (3, 3), dtype=torch.float)\n",
    "y = torch.rand(3, 3)\n",
    "print(x, '\\n', y)"
   ]
  },
  {
   "cell_type": "code",
   "execution_count": 3,
   "metadata": {},
   "outputs": [
    {
     "data": {
      "text/plain": [
       "tensor([[191.7113,  89.6239, 173.0638],\n",
       "        [ 20.5682, 204.4671, 232.5599],\n",
       "        [122.0373,  18.0279, 173.1606]])"
      ]
     },
     "execution_count": 3,
     "metadata": {},
     "output_type": "execute_result"
    }
   ],
   "source": [
    "x.add_(y)\n",
    "x"
   ]
  },
  {
   "cell_type": "markdown",
   "metadata": {},
   "source": [
    "# Make our square nines"
   ]
  },
  {
   "cell_type": "code",
   "execution_count": 4,
   "metadata": {},
   "outputs": [
    {
     "data": {
      "text/plain": [
       "tensor([[[172., 251., 234.],\n",
       "         [ 53.,  68., 191.],\n",
       "         [135., 204., 142.]],\n",
       "\n",
       "        [[250.,  84.,   8.],\n",
       "         [ 16., 120., 153.],\n",
       "         [215., 237.,  50.]],\n",
       "\n",
       "        [[ 13., 131.,  57.],\n",
       "         [ 89., 160.,  70.],\n",
       "         [128.,  71., 173.]],\n",
       "\n",
       "        ...,\n",
       "\n",
       "        [[210.,  16., 177.],\n",
       "         [101., 110., 229.],\n",
       "         [111.,  99., 164.]],\n",
       "\n",
       "        [[ 57., 253., 172.],\n",
       "         [191., 137., 141.],\n",
       "         [ 61.,  84.,  65.]],\n",
       "\n",
       "        [[231., 207., 174.],\n",
       "         [253.,   6., 231.],\n",
       "         [ 74.,  87., 254.]]])"
      ]
     },
     "execution_count": 4,
     "metadata": {},
     "output_type": "execute_result"
    }
   ],
   "source": [
    "X = torch.randint(255, (400, 3, 3), dtype=torch.float)\n",
    "X"
   ]
  },
  {
   "cell_type": "code",
   "execution_count": 5,
   "metadata": {},
   "outputs": [
    {
     "data": {
      "text/plain": [
       "tensor([[172., 251., 234.,  ..., 135., 204., 142.],\n",
       "        [250.,  84.,   8.,  ..., 215., 237.,  50.],\n",
       "        [ 13., 131.,  57.,  ..., 128.,  71., 173.],\n",
       "        ...,\n",
       "        [210.,  16., 177.,  ..., 111.,  99., 164.],\n",
       "        [ 57., 253., 172.,  ...,  61.,  84.,  65.],\n",
       "        [231., 207., 174.,  ...,  74.,  87., 254.]])"
      ]
     },
     "execution_count": 5,
     "metadata": {},
     "output_type": "execute_result"
    }
   ],
   "source": [
    "X = X.view(-1, 9)\n",
    "X"
   ]
  },
  {
   "cell_type": "code",
   "execution_count": 6,
   "metadata": {},
   "outputs": [
    {
     "data": {
      "text/plain": [
       "tensor([[657., 312., 481.],\n",
       "        [342., 289., 502.],\n",
       "        [201., 319., 372.],\n",
       "        ...,\n",
       "        [403., 440., 374.],\n",
       "        [482., 469., 210.],\n",
       "        [612., 490., 415.]])"
      ]
     },
     "execution_count": 6,
     "metadata": {},
     "output_type": "execute_result"
    }
   ],
   "source": [
    "w = [[1, 1, 1, 0, 0, 0, 0, 0, 0], \n",
    "     [0, 0, 0, 1, 1, 1, 0, 0, 0], \n",
    "     [0, 0, 0, 0, 0, 0, 1, 1, 1]]\n",
    "\n",
    "magic_w = torch.tensor(w, dtype=torch.float)\n",
    "X.mm(magic_w.t())"
   ]
  },
  {
   "cell_type": "code",
   "execution_count": 7,
   "metadata": {},
   "outputs": [
    {
     "data": {
      "text/plain": [
       "tensor([0, 2, 2, 1, 1, 1, 0, 2, 2, 2, 1, 2, 2, 0, 0, 2, 1, 2, 1, 0, 1, 0, 1, 0,\n",
       "        0, 1, 0, 1, 2, 0, 1, 0, 2, 2, 2, 1, 2, 0, 2, 2, 2, 0, 0, 2, 2, 0, 1, 2,\n",
       "        1, 2, 2, 0, 2, 0, 2, 2, 1, 0, 2, 0, 2, 1, 0, 1, 2, 1, 2, 0, 2, 0, 1, 2,\n",
       "        1, 1, 1, 0, 1, 2, 2, 1, 2, 1, 1, 1, 1, 2, 1, 0, 1, 2, 0, 0, 0, 1, 0, 0,\n",
       "        0, 2, 1, 1, 2, 2, 2, 2, 0, 2, 1, 2, 1, 1, 1, 2, 0, 2, 1, 1, 0, 2, 1, 2,\n",
       "        2, 2, 1, 1, 2, 0, 0, 2, 2, 2, 2, 2, 1, 0, 1, 2, 2, 2, 1, 2, 2, 0, 0, 0,\n",
       "        2, 0, 1, 2, 2, 1, 1, 2, 2, 2, 2, 2, 0, 0, 2, 2, 1, 2, 0, 2, 2, 1, 0, 1,\n",
       "        2, 0, 2, 1, 2, 2, 1, 2, 2, 1, 1, 1, 0, 2, 1, 2, 0, 0, 2, 2, 1, 0, 0, 1,\n",
       "        0, 2, 2, 1, 1, 1, 2, 0, 1, 1, 0, 2, 1, 0, 2, 2, 1, 0, 2, 1, 0, 0, 2, 1,\n",
       "        2, 0, 0, 2, 1, 1, 0, 0, 2, 1, 0, 2, 0, 2, 0, 1, 2, 0, 1, 0, 0, 0, 0, 1,\n",
       "        1, 0, 1, 0, 1, 2, 0, 0, 2, 2, 0, 0, 0, 0, 1, 2, 1, 1, 0, 1, 2, 2, 1, 0,\n",
       "        1, 2, 1, 2, 2, 2, 1, 0, 0, 2, 0, 0, 1, 0, 0, 1, 0, 0, 0, 1, 2, 1, 2, 2,\n",
       "        2, 1, 1, 2, 1, 1, 0, 1, 0, 2, 2, 1, 0, 2, 1, 2, 2, 1, 1, 0, 1, 1, 0, 2,\n",
       "        1, 1, 2, 2, 0, 0, 2, 2, 1, 2, 2, 0, 1, 1, 0, 2, 0, 1, 1, 0, 1, 2, 0, 2,\n",
       "        2, 0, 2, 1, 0, 0, 0, 1, 2, 0, 0, 1, 0, 2, 1, 2, 1, 0, 2, 1, 0, 2, 0, 2,\n",
       "        1, 2, 0, 2, 1, 2, 2, 1, 2, 2, 0, 0, 0, 0, 0, 2, 1, 2, 0, 2, 0, 2, 0, 2,\n",
       "        0, 0, 1, 2, 2, 1, 2, 1, 0, 2, 2, 0, 1, 1, 0, 0])"
      ]
     },
     "execution_count": 7,
     "metadata": {},
     "output_type": "execute_result"
    }
   ],
   "source": [
    "y = torch.argmax(X.mm(magic_w.t()), 1)\n",
    "y"
   ]
  },
  {
   "cell_type": "code",
   "execution_count": 8,
   "metadata": {},
   "outputs": [
    {
     "data": {
      "text/plain": [
       "tensor([[1., 0., 0.],\n",
       "        [0., 0., 1.],\n",
       "        [0., 0., 1.],\n",
       "        ...,\n",
       "        [0., 1., 0.],\n",
       "        [1., 0., 0.],\n",
       "        [1., 0., 0.]])"
      ]
     },
     "execution_count": 8,
     "metadata": {},
     "output_type": "execute_result"
    }
   ],
   "source": [
    "y = torch.zeros(400, 3, dtype=torch.float).scatter_(1, y.view(-1, 1), value=1)\n",
    "y"
   ]
  },
  {
   "cell_type": "code",
   "execution_count": 9,
   "metadata": {},
   "outputs": [
    {
     "data": {
      "image/png": "[encoded data removed]",
      "text/plain": [
       "<Figure size 1296x504 with 120 Axes>"
      ]
     },
     "metadata": {},
     "output_type": "display_data"
    }
   ],
   "source": [
    "from utils.draw import draw_xy\n",
    "\n",
    "draw_xy(X, y)"
   ]
  },
  {
   "cell_type": "code",
   "execution_count": null,
   "metadata": {},
   "outputs": [],
   "source": []
  }
 ],
 "metadata": {
  "file_extension": ".py",
  "kernelspec": {
   "display_name": "Python 3",
   "language": "python",
   "name": "python3"
  },
  "language_info": {
   "codemirror_mode": {
    "name": "ipython",
    "version": 3
   },
   "file_extension": ".py",
   "mimetype": "text/x-python",
   "name": "python",
   "nbconvert_exporter": "python",
   "pygments_lexer": "ipython3",
   "version": "3.6.10"
  },
  "mimetype": "text/x-python",
  "name": "python",
  "npconvert_exporter": "python",
  "pygments_lexer": "ipython3",
  "version": 3
 },
 "nbformat": 4,
 "nbformat_minor": 2
}
