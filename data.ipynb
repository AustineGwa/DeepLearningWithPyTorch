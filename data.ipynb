{
 "cells": [
  {
   "cell_type": "code",
   "execution_count": 1,
   "metadata": {},
   "outputs": [],
   "source": [
    "import torch\n",
    "from torch.utils.data import DataLoader\n",
    "from torch.utils.data.dataset import Dataset\n",
    "from torchvision import datasets, transforms"
   ]
  },
  {
   "cell_type": "markdown",
   "metadata": {},
   "source": [
    "# Dataset"
   ]
  },
  {
   "cell_type": "code",
   "execution_count": 2,
   "metadata": {},
   "outputs": [],
   "source": [
    "class SquareDataset(Dataset):\n",
    "    def __init__(self, size):\n",
    "        self.size = size\n",
    "        self.X = torch.randint(255, (size, 9), dtype=torch.float)\n",
    "\n",
    "        real_w = torch.tensor([[1,1,1,0,0,0,0,0,0],\n",
    "                               [0,0,0,1,1,1,0,0,0],\n",
    "                               [0,0,0,0,0,0,1,1,1]], \n",
    "                               dtype=torch.float)\n",
    "\n",
    "        y = torch.argmax(self.X.mm(real_w.t()), 1)\n",
    "        \n",
    "        self.Y = torch.zeros(size, 3, dtype=torch.float) \\\n",
    "                      .scatter_(1, y.view(-1, 1), 1)\n",
    "\n",
    "    def __getitem__(self, index):\n",
    "        return (self.X[index], self.Y[index])\n",
    "\n",
    "    def __len__(self):\n",
    "        return self.size"
   ]
  },
  {
   "cell_type": "code",
   "execution_count": 3,
   "metadata": {},
   "outputs": [
    {
     "name": "stdout",
     "output_type": "stream",
     "text": [
      "(tensor([ 54., 182.,  47., 142., 200., 197., 220., 215.,  33.]), tensor([0., 1., 0.]))\n",
      "(tensor([198., 171.,  26., 140.,  28.,   9., 205.,  48., 113.]), tensor([1., 0., 0.]))\n",
      "(tensor([ 64.,   7., 167.,   4.,   9., 160., 169., 113., 214.]), tensor([0., 0., 1.]))\n"
     ]
    }
   ],
   "source": [
    "squares = SquareDataset(256)\n",
    "print(squares[34])\n",
    "print(squares[254])\n",
    "print(squares[25])"
   ]
  },
  {
   "cell_type": "code",
   "execution_count": 4,
   "metadata": {},
   "outputs": [
    {
     "name": "stdout",
     "output_type": "stream",
     "text": [
      "tensor([[152., 127., 155., 219.,  81., 140., 112.,  77., 102.],\n",
      "        [ 77.,  58., 228., 164., 229., 155., 111., 223., 141.],\n",
      "        [106., 250.,  87.,  62., 105., 254.,   0., 210., 136.],\n",
      "        [190., 108., 134., 204., 145., 251., 146., 171.,  99.],\n",
      "        [ 88.,  36., 190., 108., 122.,   4., 231.,  22.,  70.]]) \n",
      "\n",
      " tensor([[0., 1., 0.],\n",
      "        [0., 1., 0.],\n",
      "        [1., 0., 0.],\n",
      "        [0., 1., 0.],\n",
      "        [0., 0., 1.]])\n"
     ]
    }
   ],
   "source": [
    "dataloader = DataLoader(squares, batch_size=5)\n",
    "\n",
    "for batch, (X, Y) in enumerate(dataloader):\n",
    "    print(X, '\\n\\n', Y)\n",
    "    break"
   ]
  },
  {
   "cell_type": "markdown",
   "metadata": {},
   "source": [
    "# Digits\n",
    "Transforms!"
   ]
  },
  {
   "cell_type": "code",
   "execution_count": 5,
   "metadata": {},
   "outputs": [],
   "source": [
    "digits = datasets.MNIST('data', train=True, download=True,\n",
    "                    transform=transforms.Compose([\n",
    "                        transforms.ToTensor(),\n",
    "                        transforms.Lambda(lambda x: x.view(28*28))\n",
    "                    ]),\n",
    "                    target_transform=transforms.Compose([\n",
    "                        transforms.Lambda(lambda y: \n",
    "                                          torch.zeros(10, dtype=torch.float).scatter_(0, torch.tensor(y), value=1))\n",
    "                    ])\n",
    "                 )"
   ]
  },
  {
   "cell_type": "code",
   "execution_count": 6,
   "metadata": {},
   "outputs": [
    {
     "name": "stdout",
     "output_type": "stream",
     "text": [
      "tensor([[0., 0., 0.,  ..., 0., 0., 0.],\n",
      "        [0., 0., 0.,  ..., 0., 0., 0.],\n",
      "        [0., 0., 0.,  ..., 0., 0., 0.],\n",
      "        ...,\n",
      "        [0., 0., 0.,  ..., 0., 0., 0.],\n",
      "        [0., 0., 0.,  ..., 0., 0., 0.],\n",
      "        [0., 0., 0.,  ..., 0., 0., 0.]]) \n",
      "\n",
      " tensor([[1., 0., 0., 0., 0., 0., 0., 0., 0., 0.],\n",
      "        [1., 0., 0., 0., 0., 0., 0., 0., 0., 0.],\n",
      "        [0., 0., 0., 1., 0., 0., 0., 0., 0., 0.],\n",
      "        [0., 0., 0., 0., 0., 0., 0., 1., 0., 0.],\n",
      "        [0., 0., 0., 0., 0., 0., 0., 0., 1., 0.],\n",
      "        [0., 0., 0., 0., 0., 1., 0., 0., 0., 0.],\n",
      "        [0., 0., 0., 1., 0., 0., 0., 0., 0., 0.],\n",
      "        [0., 0., 0., 0., 0., 0., 1., 0., 0., 0.],\n",
      "        [1., 0., 0., 0., 0., 0., 0., 0., 0., 0.],\n",
      "        [0., 0., 0., 0., 0., 0., 0., 1., 0., 0.]])\n"
     ]
    }
   ],
   "source": [
    "dataloader = DataLoader(digits, batch_size=10, shuffle=True)\n",
    "\n",
    "for batch, (X, Y) in enumerate(dataloader):\n",
    "    print(X, '\\n\\n', Y)\n",
    "    break"
   ]
  },
  {
   "cell_type": "code",
   "execution_count": null,
   "metadata": {},
   "outputs": [],
   "source": []
  }
 ],
 "metadata": {
  "file_extension": ".py",
  "kernelspec": {
   "display_name": "Python 3",
   "language": "python",
   "name": "python3"
  },
  "language_info": {
   "codemirror_mode": {
    "name": "ipython",
    "version": 3
   },
   "file_extension": ".py",
   "mimetype": "text/x-python",
   "name": "python",
   "nbconvert_exporter": "python",
   "pygments_lexer": "ipython3",
   "version": "3.6.10"
  },
  "mimetype": "text/x-python",
  "name": "python",
  "npconvert_exporter": "python",
  "pygments_lexer": "ipython3",
  "version": 3
 },
 "nbformat": 4,
 "nbformat_minor": 2
}
