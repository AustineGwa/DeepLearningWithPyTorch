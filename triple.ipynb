{
 "cells": [
  {
   "cell_type": "code",
   "execution_count": 1,
   "metadata": {},
   "outputs": [],
   "source": [
    "import os\n",
    "import math\n",
    "import shutil\n",
    "import numpy as np\n",
    "from PIL import Image\n",
    "from utils.draw import draw_xy\n",
    "import matplotlib.pyplot as plt"
   ]
  },
  {
   "cell_type": "code",
   "execution_count": 2,
   "metadata": {},
   "outputs": [],
   "source": [
    "def generate(count):\n",
    "    X = np.random.randint(0, high=255, size=(count, 9))\n",
    "    a = np.array([[1, 1, 1, 0, 0, 0, 0, 0, 0], \n",
    "                  [0, 0, 0, 1, 1, 1, 0, 0, 0], \n",
    "                  [0, 0, 0, 0, 0, 0, 1, 1, 1]])\n",
    "\n",
    "    Y = np.eye(3)[np.argmax(X.dot(a.T), axis=1)]\n",
    "    return X, Y"
   ]
  },
  {
   "cell_type": "code",
   "execution_count": 3,
   "metadata": {},
   "outputs": [
    {
     "data": {
      "image/png": "[encoded data removed]",
      "text/plain": [
       "<Figure size 1296x504 with 120 Axes>"
      ]
     },
     "metadata": {},
     "output_type": "display_data"
    }
   ],
   "source": [
    "draw_xy(*generate(120))"
   ]
  },
  {
   "cell_type": "code",
   "execution_count": 4,
   "metadata": {},
   "outputs": [],
   "source": [
    "def train(n=512, epochs=56000, lr = 1e-3):\n",
    "    # weight vector\n",
    "    W = np.random.randn(9, 3)\n",
    "    b = np.random.randn(1, 3)\n",
    "\n",
    "    # training loop\n",
    "    for t in range(epochs):\n",
    "        # get new training data\n",
    "        X, y = generate(n)\n",
    "        X = X / 255\n",
    "\n",
    "        # model function\n",
    "        h = X.dot(W) + b\n",
    "\n",
    "        # compute loss\n",
    "        loss = np.square(h - y).mean()\n",
    "\n",
    "        # compute accuracy\n",
    "        acc = (np.argmax(h, axis=1) == np.argmax(y, axis=1)).mean()\n",
    "\n",
    "        if t % 5000 == 0:\n",
    "            print('l: {:>8f}, a {:>.4f} (e {})'.format(loss, acc, t))\n",
    "\n",
    "        # grad + update\n",
    "        grad_w = 2 * X.T.dot(h - y) / n\n",
    "        W -= lr * grad_w\n",
    "\n",
    "        grad_b = 2 * np.sum(h - y, axis=0) / n\n",
    "        b -= lr * grad_b\n",
    "\n",
    "    return W, b"
   ]
  },
  {
   "cell_type": "code",
   "execution_count": 5,
   "metadata": {},
   "outputs": [
    {
     "name": "stdout",
     "output_type": "stream",
     "text": [
      "l: 2.856105, a 0.2734 (e 0)\n",
      "l: 0.203259, a 0.5996 (e 5000)\n",
      "l: 0.125143, a 0.8164 (e 10000)\n",
      "l: 0.109183, a 0.8926 (e 15000)\n",
      "l: 0.104883, a 0.9004 (e 20000)\n",
      "l: 0.099931, a 0.9375 (e 25000)\n",
      "l: 0.104011, a 0.9512 (e 30000)\n",
      "l: 0.107277, a 0.9570 (e 35000)\n",
      "l: 0.100308, a 0.9668 (e 40000)\n",
      "l: 0.104737, a 0.9863 (e 45000)\n",
      "l: 0.107053, a 0.9766 (e 50000)\n",
      "l: 0.099793, a 0.9961 (e 55000)\n",
      "\n",
      "Final W = \n",
      "\n",
      "[[ 0.57775157 -0.27516143 -0.29983488]\n",
      " [ 0.57768692 -0.27589319 -0.29935118]\n",
      " [ 0.57811469 -0.2764427  -0.29911445]\n",
      " [-0.27712936  0.57835142 -0.29856699]\n",
      " [-0.27640057  0.5782363  -0.29916655]\n",
      " [-0.27706883  0.57939636 -0.29960357]\n",
      " [-0.27661276 -0.27371918  0.55306812]\n",
      " [-0.27658511 -0.27363858  0.55294286]\n",
      " [-0.27656491 -0.2740988   0.55327718]]\n",
      "\n",
      "Final b = \n",
      "\n",
      "[[0.29612778 0.28854414 0.40312817]]\n"
     ]
    }
   ],
   "source": [
    "W, b = train()\n",
    "print('\\nFinal W = \\n\\n{}\\n\\nFinal b = \\n\\n{}'.format(W, b))"
   ]
  },
  {
   "cell_type": "code",
   "execution_count": 6,
   "metadata": {},
   "outputs": [
    {
     "name": "stdout",
     "output_type": "stream",
     "text": [
      "top\n"
     ]
    }
   ],
   "source": [
    "npix = np.array([[255, 143, 255, 255, 187, 93, 5, 5, 5]])\n",
    "a = npix.dot(W) + b\n",
    "d = ['top', 'middle', 'bottom']\n",
    "print(d[np.argmax(a)])"
   ]
  },
  {
   "cell_type": "code",
   "execution_count": null,
   "metadata": {},
   "outputs": [],
   "source": []
  }
 ],
 "metadata": {
  "kernelspec": {
   "display_name": "Python 3",
   "language": "python",
   "name": "python3"
  },
  "language_info": {
   "codemirror_mode": {
    "name": "ipython",
    "version": 3
   },
   "file_extension": ".py",
   "mimetype": "text/x-python",
   "name": "python",
   "nbconvert_exporter": "python",
   "pygments_lexer": "ipython3",
   "version": "3.6.10"
  },
  "varInspector": {
   "cols": {
    "lenName": 16,
    "lenType": 16,
    "lenVar": 40
   },
   "kernels_config": {
    "python": {
     "delete_cmd_postfix": "",
     "delete_cmd_prefix": "del ",
     "library": "var_list.py",
     "varRefreshCmd": "print(var_dic_list())"
    },
    "r": {
     "delete_cmd_postfix": ") ",
     "delete_cmd_prefix": "rm(",
     "library": "var_list.r",
     "varRefreshCmd": "cat(var_dic_list()) "
    }
   },
   "types_to_exclude": [
    "module",
    "function",
    "builtin_function_or_method",
    "instance",
    "_Feature"
   ],
   "window_display": false
  }
 },
 "nbformat": 4,
 "nbformat_minor": 2
}
